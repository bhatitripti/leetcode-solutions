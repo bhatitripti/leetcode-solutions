{
 "cells": [
  {
   "cell_type": "code",
   "execution_count": 1,
   "id": "03406c54",
   "metadata": {},
   "outputs": [],
   "source": [
    "def li(s,t):\n",
    "    s=list(s)\n",
    "    t=list(t)\n",
    "    #print(s,t)\n",
    "    m=len(s)\n",
    "    if len(s)==len(t):\n",
    "        for i in range(m):\n",
    "            for j in range(m):\n",
    "                if s[0]==t[j]:\n",
    "                    if s.count(s[0])==t.count(t[j]):\n",
    "                        s.remove(s[0])\n",
    "                        t.remove(t[j])\n",
    "                        s.append(\" \")\n",
    "                        t.append(\" \")\n",
    "                        #print(s,t)\n",
    "    else:\n",
    "        return False\n",
    "    if(s==t):\n",
    "        return True\n",
    "    else:\n",
    "        return False\n",
    "    \n",
    "                "
   ]
  },
  {
   "cell_type": "code",
   "execution_count": 2,
   "id": "406cfa8d",
   "metadata": {},
   "outputs": [
    {
     "data": {
      "text/plain": [
       "True"
      ]
     },
     "execution_count": 2,
     "metadata": {},
     "output_type": "execute_result"
    }
   ],
   "source": [
    "li('bar',\"rab\")"
   ]
  },
  {
   "cell_type": "code",
   "execution_count": 5,
   "id": "ee88f05a",
   "metadata": {},
   "outputs": [],
   "source": [
    "from collections import Counter\n",
    "def li(s,t):\n",
    "    if Counter(s)==Counter(t):\n",
    "        return True\n",
    "    else:\n",
    "        return False"
   ]
  },
  {
   "cell_type": "code",
   "execution_count": 4,
   "id": "b66cf9b9",
   "metadata": {},
   "outputs": [
    {
     "data": {
      "text/plain": [
       "True"
      ]
     },
     "execution_count": 4,
     "metadata": {},
     "output_type": "execute_result"
    }
   ],
   "source": [
    "li('bar',\"rab\")"
   ]
  },
  {
   "cell_type": "code",
   "execution_count": null,
   "id": "bf2f9308",
   "metadata": {},
   "outputs": [],
   "source": []
  }
 ],
 "metadata": {
  "kernelspec": {
   "display_name": "Python 3 (ipykernel)",
   "language": "python",
   "name": "python3"
  },
  "language_info": {
   "codemirror_mode": {
    "name": "ipython",
    "version": 3
   },
   "file_extension": ".py",
   "mimetype": "text/x-python",
   "name": "python",
   "nbconvert_exporter": "python",
   "pygments_lexer": "ipython3",
   "version": "3.9.7"
  }
 },
 "nbformat": 4,
 "nbformat_minor": 5
}
