{
 "cells": [
  {
   "cell_type": "code",
   "execution_count": 1,
   "id": "fcfca91b",
   "metadata": {},
   "outputs": [],
   "source": [
    "from collections import Counter\n",
    "def find(a):\n",
    "    d=Counter(a)\n",
    "    print(d)\n",
    "    for i in d:\n",
    "        #print(d[i])\n",
    "        if d[i]>1:\n",
    "            return i"
   ]
  },
  {
   "cell_type": "code",
   "execution_count": 2,
   "id": "a4c814bd",
   "metadata": {},
   "outputs": [
    {
     "name": "stdout",
     "output_type": "stream",
     "text": [
      "Counter({12: 2, 13: 1, 33: 1, 4: 1, 5: 1, 91: 1})\n"
     ]
    },
    {
     "data": {
      "text/plain": [
       "12"
      ]
     },
     "execution_count": 2,
     "metadata": {},
     "output_type": "execute_result"
    }
   ],
   "source": [
    "find([13,12,33,4,5,12,91])"
   ]
  },
  {
   "cell_type": "code",
   "execution_count": null,
   "id": "1e5f1637",
   "metadata": {},
   "outputs": [],
   "source": []
  }
 ],
 "metadata": {
  "kernelspec": {
   "display_name": "Python 3 (ipykernel)",
   "language": "python",
   "name": "python3"
  },
  "language_info": {
   "codemirror_mode": {
    "name": "ipython",
    "version": 3
   },
   "file_extension": ".py",
   "mimetype": "text/x-python",
   "name": "python",
   "nbconvert_exporter": "python",
   "pygments_lexer": "ipython3",
   "version": "3.9.7"
  }
 },
 "nbformat": 4,
 "nbformat_minor": 5
}
